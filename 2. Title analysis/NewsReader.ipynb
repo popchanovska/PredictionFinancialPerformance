{
  "nbformat": 4,
  "nbformat_minor": 0,
  "metadata": {
    "colab": {
      "provenance": []
    },
    "kernelspec": {
      "name": "python3",
      "display_name": "Python 3"
    },
    "language_info": {
      "name": "python"
    }
  },
  "cells": [
    {
      "cell_type": "code",
      "execution_count": null,
      "metadata": {
        "id": "8uRQaJ0z8xJT"
      },
      "outputs": [],
      "source": [
        "import os\n",
        "import json\n",
        "import time\n",
        "import pandas as pd\n",
        "\n",
        "json_dir = '/content/drive/MyDrive/vnp-project/ana'\n",
        "\n",
        "data = []\n",
        "failed_data = []\n",
        "counter_positive = 0\n",
        "counter_negative = 0\n",
        "\n",
        "for filename in os.listdir(json_dir):\n",
        "    if filename.endswith('.json'):\n",
        "        company_name = os.path.splitext(filename)[0].split('_news')[0]\n",
        "\n",
        "        file_path = os.path.join(json_dir, filename)\n",
        "\n",
        "        with open(file_path, 'r') as file:\n",
        "            json_data = json.load(file)\n",
        "\n",
        "            for news_item in json_data:\n",
        "                  title = news_item.get('title')\n",
        "                  link = news_item.get('link')\n",
        "                  source = news_item.get('source')\n",
        "                  content = \"\"\n",
        "                  datetime = news_item.get('datetime')\n",
        "                  time_of = news_item.get('time')\n",
        "                  article_type = news_item.get('articleType')\n",
        "                  data.append(\n",
        "                          {\n",
        "                          'company': company_name,\n",
        "                          'title': title,\n",
        "                          'link': link,\n",
        "                          'source': source,\n",
        "                          'content': content,\n",
        "                          'publish_date': datetime,\n",
        "                          'time': time_of,\n",
        "                          'article_type': article_type,\n",
        "                          })\n",
        "\n",
        "news = pd.DataFrame(data)"
      ]
    },
    {
      "cell_type": "code",
      "source": [
        "news.to_csv(\"/content/drive/MyDrive/vnp-project/ana/news.csv\", index = True)"
      ],
      "metadata": {
        "id": "4hSbNr2X_bbG"
      },
      "execution_count": null,
      "outputs": []
    }
  ]
}