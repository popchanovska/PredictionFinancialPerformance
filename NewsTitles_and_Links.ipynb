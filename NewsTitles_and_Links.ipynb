{
  "nbformat": 4,
  "nbformat_minor": 0,
  "metadata": {
    "colab": {
      "provenance": []
    },
    "kernelspec": {
      "name": "python3",
      "display_name": "Python 3"
    },
    "language_info": {
      "name": "python"
    }
  },
  "cells": [
    {
      "cell_type": "code",
      "execution_count": 1,
      "metadata": {
        "colab": {
          "base_uri": "https://localhost:8080/"
        },
        "id": "CrFrK2_bmKCd",
        "outputId": "373de586-31c0-43db-89b8-e145b5a4beb2"
      },
      "outputs": [
        {
          "output_type": "stream",
          "name": "stdout",
          "text": [
            "Requirement already satisfied: pandas in /usr/local/lib/python3.10/dist-packages (2.1.4)\n",
            "Requirement already satisfied: openpyxl in /usr/local/lib/python3.10/dist-packages (3.1.5)\n",
            "Requirement already satisfied: numpy<2,>=1.22.4 in /usr/local/lib/python3.10/dist-packages (from pandas) (1.26.4)\n",
            "Requirement already satisfied: python-dateutil>=2.8.2 in /usr/local/lib/python3.10/dist-packages (from pandas) (2.8.2)\n",
            "Requirement already satisfied: pytz>=2020.1 in /usr/local/lib/python3.10/dist-packages (from pandas) (2024.1)\n",
            "Requirement already satisfied: tzdata>=2022.1 in /usr/local/lib/python3.10/dist-packages (from pandas) (2024.1)\n",
            "Requirement already satisfied: et-xmlfile in /usr/local/lib/python3.10/dist-packages (from openpyxl) (1.1.0)\n",
            "Requirement already satisfied: six>=1.5 in /usr/local/lib/python3.10/dist-packages (from python-dateutil>=2.8.2->pandas) (1.16.0)\n"
          ]
        }
      ],
      "source": [
        "pip install pandas openpyxl"
      ]
    },
    {
      "cell_type": "code",
      "source": [
        "import json\n",
        "import pandas as pd\n",
        "import os\n",
        "\n",
        "# List of JSON file paths\n",
        "json_paths = [\n",
        "    '/content/drive/MyDrive/Вовед во науката за податоци/1. Seminarska/datasets-news-articles/AbbVie_news.json',\n",
        "    '/content/drive/MyDrive/Вовед во науката за податоци/1. Seminarska/datasets-news-articles/Adobe_news.json',\n",
        "    '/content/drive/MyDrive/Вовед во науката за податоци/1. Seminarska/datasets-news-articles/Alibaba_news.json',\n",
        "    '/content/drive/MyDrive/Вовед во науката за податоци/1. Seminarska/datasets-news-articles/Amazon_news.json',\n",
        "    '/content/drive/MyDrive/Вовед во науката за податоци/1. Seminarska/datasets-news-articles/American_Express_news.json',\n",
        "    '/content/drive/MyDrive/Вовед во науката за податоци/1. Seminarska/datasets-news-articles/Apple_news.json',\n",
        "    '/content/drive/MyDrive/Вовед во науката за податоци/1. Seminarska/datasets-news-articles/Bank_of_America_news.json',\n",
        "    '/content/drive/MyDrive/Вовед во науката за податоци/1. Seminarska/datasets-news-articles/Berkshire_Hathaway_news.json',\n",
        "    '/content/drive/MyDrive/Вовед во науката за податоци/1. Seminarska/datasets-news-articles/Broadcom_news.json',\n",
        "    '/content/drive/MyDrive/Вовед во науката за податоци/1. Seminarska/datasets-news-articles/Caterpillar_news.json',\n",
        "    '/content/drive/MyDrive/Вовед во науката за податоци/1. Seminarska/datasets-news-articles/Chevron_news.json',\n",
        "    '/content/drive/MyDrive/Вовед во науката за податоци/1. Seminarska/datasets-news-articles/Cisco_news.json',\n",
        "    '/content/drive/MyDrive/Вовед во науката за податоци/1. Seminarska/datasets-news-articles/Coca-Cola_news.json',\n",
        "    '/content/drive/MyDrive/Вовед во науката за податоци/1. Seminarska/datasets-news-articles/Comcast_news.json',\n",
        "    '/content/drive/MyDrive/Вовед во науката за податоци/1. Seminarska/datasets-news-articles/Costco_news.json',\n",
        "    '/content/drive/MyDrive/Вовед во науката за податоци/1. Seminarska/datasets-news-articles/Dior_news.json',\n",
        "    '/content/drive/MyDrive/Вовед во науката за податоци/1. Seminarska/datasets-news-articles/Eli_Lilly_news.json',\n",
        "    '/content/drive/MyDrive/Вовед во науката за податоци/1. Seminarska/datasets-news-articles/Google_news.json',\n",
        "    '/content/drive/MyDrive/Вовед во науката за податоци/1. Seminarska/datasets-news-articles/Hermès_news.json',\n",
        "    '/content/drive/MyDrive/Вовед во науката за податоци/1. Seminarska/datasets-news-articles/Home_Depot_news.json',\n",
        "    '/content/drive/MyDrive/Вовед во науката за податоци/1. Seminarska/datasets-news-articles/IBM_news.json',\n",
        "    '/content/drive/MyDrive/Вовед во науката за податоци/1. Seminarska/datasets-news-articles/Intel_news.json',\n",
        "    '/content/drive/MyDrive/Вовед во науката за податоци/1. Seminarska/datasets-news-articles/JPMorgan_Chase_news.json',\n",
        "    '/content/drive/MyDrive/Вовед во науката за податоци/1. Seminarska/datasets-news-articles/Johnson_&_Johnson_news.json',\n",
        "    '/content/drive/MyDrive/Вовед во науката за податоци/1. Seminarska/datasets-news-articles/LVMH_news.json',\n",
        "    '/content/drive/MyDrive/Вовед во науката за податоци/1. Seminarska/datasets-news-articles/L_Oréal_news.json',\n",
        "    '/content/drive/MyDrive/Вовед во науката за податоци/1. Seminarska/datasets-news-articles/Mastercard_news.json',\n",
        "    '/content/drive/MyDrive/Вовед во науката за податоци/1. Seminarska/datasets-news-articles/McDonald_news.json',\n",
        "    '/content/drive/MyDrive/Вовед во науката за податоци/1. Seminarska/datasets-news-articles/Merck_news.json',\n",
        "    '/content/drive/MyDrive/Вовед во науката за податоци/1. Seminarska/datasets-news-articles/Meta_news.json',\n",
        "    '/content/drive/MyDrive/Вовед во науката за податоци/1. Seminarska/datasets-news-articles/Microsoft_news.json',\n",
        "    '/content/drive/MyDrive/Вовед во науката за податоци/1. Seminarska/datasets-news-articles/NVIDIA_news.json',\n",
        "    '/content/drive/MyDrive/Вовед во науката за податоци/1. Seminarska/datasets-news-articles/Nestlé_news.json',\n",
        "    '/content/drive/MyDrive/Вовед во науката за податоци/1. Seminarska/datasets-news-articles/Netflix_news.json',\n",
        "    '/content/drive/MyDrive/Вовед во науката за податоци/1. Seminarska/datasets-news-articles/Nike_news.json',\n",
        "    '/content/drive/MyDrive/Вовед во науката за податоци/1. Seminarska/datasets-news-articles/Novo_Nordisk_news.json',\n",
        "    '/content/drive/MyDrive/Вовед во науката за податоци/1. Seminarska/datasets-news-articles/Oracle_news.json',\n",
        "    '/content/drive/MyDrive/Вовед во науката за податоци/1. Seminarska/datasets-news-articles/Procter_&_Gamble_news.json',\n",
        "    '/content/drive/MyDrive/Вовед во науката за податоци/1. Seminarska/datasets-news-articles/Salesforce_news.json',\n",
        "    '/content/drive/MyDrive/Вовед во науката за податоци/1. Seminarska/datasets-news-articles/Samsung_news.json',\n",
        "    '/content/drive/MyDrive/Вовед во науката за податоци/1. Seminarska/datasets-news-articles/Saudi_Aramco_news.json',\n",
        "    '/content/drive/MyDrive/Вовед во науката за податоци/1. Seminarska/datasets-news-articles/Shell_news.json',\n",
        "    '/content/drive/MyDrive/Вовед во науката за податоци/1. Seminarska/datasets-news-articles/Tencent_news.json',\n",
        "    '/content/drive/MyDrive/Вовед во науката за податоци/1. Seminarska/datasets-news-articles/Tesla_news.json',\n",
        "    '/content/drive/MyDrive/Вовед во науката за податоци/1. Seminarska/datasets-news-articles/Toyota_news.json',\n",
        "    '/content/drive/MyDrive/Вовед во науката за податоци/1. Seminarska/datasets-news-articles/Unilever_news.json',\n",
        "    '/content/drive/MyDrive/Вовед во науката за податоци/1. Seminarska/datasets-news-articles/UnitedHealth_news.json',\n",
        "    '/content/drive/MyDrive/Вовед во науката за податоци/1. Seminarska/datasets-news-articles/Visa_news.json',\n",
        "    '/content/drive/MyDrive/Вовед во науката за податоци/1. Seminarska/datasets-news-articles/Walmart_news.json',\n",
        "    '/content/drive/MyDrive/Вовед во науката за податоци/1. Seminarska/datasets-news-articles/Walt_Disney_news.json'\n",
        "]\n",
        "\n",
        "# Directory to save the Excel files\n",
        "output_directory = '/content/drive/MyDrive/Вовед во науката за податоци/1. Seminarska/datasets-news-titles/'\n",
        "\n",
        "os.makedirs(output_directory, exist_ok=True)\n",
        "\n",
        "for json_path in json_paths:\n",
        "    with open(json_path, 'r') as file:\n",
        "        data = json.load(file)\n",
        "\n",
        "    df = pd.DataFrame(data)\n",
        "\n",
        "    output_df = pd.DataFrame({\n",
        "        'Company': [os.path.basename(json_path).replace('_news.json', '')] * len(df),\n",
        "        'Link': df['link'],\n",
        "        'News Title': df['title']\n",
        "    })\n",
        "\n",
        "    excel_filename = os.path.basename(json_path).replace('.json', '_titles.xlsx')\n",
        "    excel_path = os.path.join(output_directory, excel_filename)\n",
        "\n",
        "    output_df.to_excel(excel_path, index=False)"
      ],
      "metadata": {
        "id": "5uk-fJkRwTCk"
      },
      "execution_count": 15,
      "outputs": []
    }
  ]
}