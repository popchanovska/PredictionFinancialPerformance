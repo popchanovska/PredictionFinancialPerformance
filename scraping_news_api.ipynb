{
  "nbformat": 4,
  "nbformat_minor": 0,
  "metadata": {
    "colab": {
      "provenance": []
    },
    "kernelspec": {
      "name": "python3",
      "display_name": "Python 3"
    },
    "language_info": {
      "name": "python"
    }
  },
  "cells": [
    {
      "cell_type": "markdown",
      "source": [
        "Fetching на новости од компании во json формат од NewsAPI платформата.  Во делот api_key = 'YOUR_API_KEY' внеси го својот API клуч од NewsAPI и изврши го кодот."
      ],
      "metadata": {
        "id": "_Q9lqv8OLiPK"
      }
    },
    {
      "cell_type": "code",
      "execution_count": 1,
      "metadata": {
        "id": "Yi3aJJYjGRIX",
        "colab": {
          "base_uri": "https://localhost:8080/"
        },
        "collapsed": true,
        "outputId": "27ad0cc6-04c3-4bec-fb66-9476ca12bd17"
      },
      "outputs": [
        {
          "output_type": "stream",
          "name": "stdout",
          "text": [
            "Requirement already satisfied: requests in /usr/local/lib/python3.10/dist-packages (2.31.0)\n",
            "Requirement already satisfied: charset-normalizer<4,>=2 in /usr/local/lib/python3.10/dist-packages (from requests) (3.3.2)\n",
            "Requirement already satisfied: idna<4,>=2.5 in /usr/local/lib/python3.10/dist-packages (from requests) (3.7)\n",
            "Requirement already satisfied: urllib3<3,>=1.21.1 in /usr/local/lib/python3.10/dist-packages (from requests) (2.0.7)\n",
            "Requirement already satisfied: certifi>=2017.4.17 in /usr/local/lib/python3.10/dist-packages (from requests) (2024.7.4)\n"
          ]
        }
      ],
      "source": [
        "pip install requests"
      ]
    },
    {
      "cell_type": "code",
      "source": [
        "import requests\n",
        "import json\n",
        "import os\n",
        "\n",
        "def fetch_news(api_key, query, from_date, to_date, language='en', sort_by='publishedAt'):\n",
        "    url = 'https://newsapi.org/v2/everything'\n",
        "    params = {\n",
        "        'q': query,\n",
        "        'from': from_date,\n",
        "        'to': to_date,\n",
        "        'language': language,\n",
        "        'sortBy': sort_by,\n",
        "        'apiKey': api_key\n",
        "    }\n",
        "\n",
        "    response = requests.get(url, params=params)\n",
        "    if response.status_code == 200:\n",
        "        return response.json()\n",
        "    else:\n",
        "        print(f\"Error fetching news for {query}: {response.status_code}\")\n",
        "        print(response.json())\n",
        "        return None\n",
        "\n",
        "def save_news_to_file(data, company_name, directory='/content'):\n",
        "    if data:\n",
        "        output_file_path = os.path.join(directory, f\"{company_name}_news.json\")\n",
        "        with open(output_file_path, 'w') as file:\n",
        "            json.dump(data, file, indent=4)\n",
        "        print(f\"Data for {company_name} successfully saved to {output_file_path}\")\n",
        "\n",
        "companies = [\n",
        "    'Tesla',\n",
        "    'Apple Inc',\n",
        "    'Microsoft',\n",
        "    'Amazon',\n",
        "    'Google',\n",
        "    'Facebook',\n",
        "    'NVIDIA',\n",
        "    'IBM',\n",
        "    'Intel',\n",
        "    'Adobe'\n",
        "]\n",
        "\n",
        "# Replace 'YOUR_API_KEY' with your actual NewsAPI key\n",
        "api_key = 'YOUR_API_KEY'\n",
        "\n",
        "for company in companies:\n",
        "    print(f\"Fetching news for: {company}\")\n",
        "    news_data = fetch_news(api_key, company, from_date='2024-06-21', to_date='2024-07-19')\n",
        "    save_news_to_file(news_data, company)\n"
      ],
      "metadata": {
        "colab": {
          "base_uri": "https://localhost:8080/"
        },
        "collapsed": true,
        "id": "G56nz0YKHRz7",
        "outputId": "49f6b11a-eb42-4a6b-ee70-340027c0cd2a"
      },
      "execution_count": 24,
      "outputs": [
        {
          "output_type": "stream",
          "name": "stdout",
          "text": [
            "Fetching news for: Tesla\n",
            "Error fetching news for Tesla: 429\n",
            "{'status': 'error', 'code': 'rateLimited', 'message': 'You have made too many requests recently. Developer accounts are limited to 100 requests over a 24 hour period (50 requests available every 12 hours). Please upgrade to a paid plan if you need more requests.'}\n",
            "Fetching news for: Apple Inc\n",
            "Error fetching news for Apple Inc: 429\n",
            "{'status': 'error', 'code': 'rateLimited', 'message': 'You have made too many requests recently. Developer accounts are limited to 100 requests over a 24 hour period (50 requests available every 12 hours). Please upgrade to a paid plan if you need more requests.'}\n",
            "Fetching news for: Microsoft\n",
            "Error fetching news for Microsoft: 429\n",
            "{'status': 'error', 'code': 'rateLimited', 'message': 'You have made too many requests recently. Developer accounts are limited to 100 requests over a 24 hour period (50 requests available every 12 hours). Please upgrade to a paid plan if you need more requests.'}\n",
            "Fetching news for: Amazon\n",
            "Error fetching news for Amazon: 429\n",
            "{'status': 'error', 'code': 'rateLimited', 'message': 'You have made too many requests recently. Developer accounts are limited to 100 requests over a 24 hour period (50 requests available every 12 hours). Please upgrade to a paid plan if you need more requests.'}\n",
            "Fetching news for: Google\n",
            "Error fetching news for Google: 429\n",
            "{'status': 'error', 'code': 'rateLimited', 'message': 'You have made too many requests recently. Developer accounts are limited to 100 requests over a 24 hour period (50 requests available every 12 hours). Please upgrade to a paid plan if you need more requests.'}\n",
            "Fetching news for: Facebook\n",
            "Error fetching news for Facebook: 429\n",
            "{'status': 'error', 'code': 'rateLimited', 'message': 'You have made too many requests recently. Developer accounts are limited to 100 requests over a 24 hour period (50 requests available every 12 hours). Please upgrade to a paid plan if you need more requests.'}\n",
            "Fetching news for: NVIDIA\n",
            "Error fetching news for NVIDIA: 429\n",
            "{'status': 'error', 'code': 'rateLimited', 'message': 'You have made too many requests recently. Developer accounts are limited to 100 requests over a 24 hour period (50 requests available every 12 hours). Please upgrade to a paid plan if you need more requests.'}\n",
            "Fetching news for: IBM\n",
            "Error fetching news for IBM: 429\n",
            "{'status': 'error', 'code': 'rateLimited', 'message': 'You have made too many requests recently. Developer accounts are limited to 100 requests over a 24 hour period (50 requests available every 12 hours). Please upgrade to a paid plan if you need more requests.'}\n",
            "Fetching news for: Intel\n",
            "Error fetching news for Intel: 429\n",
            "{'status': 'error', 'code': 'rateLimited', 'message': 'You have made too many requests recently. Developer accounts are limited to 100 requests over a 24 hour period (50 requests available every 12 hours). Please upgrade to a paid plan if you need more requests.'}\n",
            "Fetching news for: Adobe\n",
            "Error fetching news for Adobe: 429\n",
            "{'status': 'error', 'code': 'rateLimited', 'message': 'You have made too many requests recently. Developer accounts are limited to 100 requests over a 24 hour period (50 requests available every 12 hours). Please upgrade to a paid plan if you need more requests.'}\n"
          ]
        }
      ]
    },
    {
      "cell_type": "code",
      "source": [
        "# Преглед на фајловите во /content директориумот. Во него се наоѓаат \"COMPANY-NAME\"_news.json фајловите.\n",
        "files = os.listdir('/content')\n",
        "print(files)"
      ],
      "metadata": {
        "colab": {
          "base_uri": "https://localhost:8080/"
        },
        "id": "Og9dkgqSDxp7",
        "outputId": "31950792-d4df-4a91-9a8b-32455a837105"
      },
      "execution_count": 25,
      "outputs": [
        {
          "output_type": "stream",
          "name": "stdout",
          "text": [
            "['.config', 'Google_news.json', 'Intel_news.json', 'IBM_news.json', 'Apple_news.json', 'Amazon_news.json', 'Adobe_news.json', 'Facebook_news.json', 'Apple Inc_news.json', '.ipynb_checkpoints', 'Microsoft_news.json', 'NVIDIA_news.json', 'Tesla_news.json', 'sample_data']\n"
          ]
        }
      ]
    }
  ]
}