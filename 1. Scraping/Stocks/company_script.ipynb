{
  "nbformat": 4,
  "nbformat_minor": 0,
  "metadata": {
    "colab": {
      "provenance": []
    },
    "kernelspec": {
      "name": "python3",
      "display_name": "Python 3"
    },
    "language_info": {
      "name": "python"
    }
  },
  "cells": [
    {
      "cell_type": "code",
      "execution_count": null,
      "metadata": {
        "colab": {
          "base_uri": "https://localhost:8080/"
        },
        "id": "-nEiyOGVBMCs",
        "outputId": "f218b1d5-1901-4368-bbf0-54dda5a60db7"
      },
      "outputs": [
        {
          "output_type": "stream",
          "name": "stdout",
          "text": [
            "Updated Apple.csv\n",
            "Updated AbbVie.csv\n",
            "Updated Adobe.csv\n",
            "Updated Amazon.csv\n",
            "Updated Broadcom.csv\n",
            "Updated American.csv\n",
            "Updated Alibaba.csv\n",
            "Updated Bank.csv\n",
            "Updated Berkshire.csv\n",
            "Updated Caterpillar.csv\n",
            "Updated Chevron.csv\n",
            "Updated Comcast.csv\n",
            "Updated Coca-Cola.csv\n",
            "Updated Costco.csv\n",
            "Updated CIsco.csv\n",
            "Updated Walt_Disney.csv\n",
            "Updated Google.csv\n",
            "Updated Hermès.csv\n",
            "Updated Home_Depot.csv\n",
            "Updated IBM.csv\n",
            "Updated Intel.csv\n",
            "Updated Johnson_&_Johnson.csv\n",
            "Updated JPMorgan_Chase.csv\n",
            "Updated Eli_Lilly.csv\n",
            "Updated L_Oréal.csv\n",
            "Updated LVMH.csv\n",
            "Updated Mastercard.csv\n",
            "Updated McDonald.csv\n",
            "Updated Merck.csv\n",
            "Updated Meta.csv\n",
            "Updated Microsoft.csv\n",
            "Updated Nestlé.csv\n",
            "Updated Netflix.csv\n",
            "Updated Nike.csv\n",
            "Updated NVIDIA.csv\n",
            "Updated Novo-Nordisk.csv\n",
            "Updated Oracle.csv\n",
            "Updated Procter.csv\n",
            "Updated Samsung.csv\n",
            "Updated Shell.csv\n",
            "Updated Toyota.csv\n",
            "Updated Tesla.csv\n",
            "Updated Visa.csv\n",
            "Updated Walmart.csv\n",
            "Updated UnitedHealth.csv\n",
            "Updated Tencent.csv\n",
            "Updated Unilever.csv\n"
          ]
        }
      ],
      "source": [
        "import pandas as pd\n",
        "import os\n",
        "\n",
        "folder_path = '/content/drive/MyDrive/vnp-project/data/stocks'\n",
        "\n",
        "for file_name in os.listdir(folder_path):\n",
        "    if file_name.endswith('.csv'):\n",
        "        file_path = os.path.join(folder_path, file_name)\n",
        "\n",
        "        df = pd.read_csv(file_path)\n",
        "\n",
        "        df['company'] = file_name.replace('.csv', '')\n",
        "\n",
        "        df.to_csv(file_path, index=False)\n",
        "\n",
        "        print(f\"Updated {file_name}\")\n"
      ]
    }
  ]
}